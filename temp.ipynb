{
 "cells": [
  {
   "cell_type": "code",
   "execution_count": 1,
   "metadata": {},
   "outputs": [
    {
     "name": "stderr",
     "output_type": "stream",
     "text": [
      "/home/qu-user1/Github/quAPI-backend/venv/lib/python3.10/site-packages/pinecone/data/index.py:1: TqdmWarning: IProgress not found. Please update jupyter and ipywidgets. See https://ipywidgets.readthedocs.io/en/stable/user_install.html\n",
      "  from tqdm.autonotebook import tqdm\n"
     ]
    }
   ],
   "source": [
    "from app.services.rag.create_rag import get_or_create_index\n",
    "from bson.objectid import ObjectId"
   ]
  },
  {
   "cell_type": "code",
   "execution_count": 2,
   "metadata": {},
   "outputs": [
    {
     "name": "stderr",
     "output_type": "stream",
     "text": [
      "INFO:pinecone_plugin_interface.logging:Discovering subpackages in _NamespacePath(['/home/qu-user1/Github/quAPI-backend/venv/lib/python3.10/site-packages/pinecone_plugins'])\n",
      "INFO:pinecone_plugin_interface.logging:Looking for plugins in pinecone_plugins.inference\n",
      "INFO:pinecone_plugin_interface.logging:Installing plugin inference into Pinecone\n"
     ]
    },
    {
     "name": "stdout",
     "output_type": "stream",
     "text": [
      "<pinecone.control.pinecone.Pinecone object at 0x7fb809c7e9e0>\n"
     ]
    },
    {
     "name": "stderr",
     "output_type": "stream",
     "text": [
      "INFO:root:Creating new Pinecone index: 5f6e8d3b6e5e1d5a7f8d2b2e\n",
      "ERROR:root:Failed to create or retrieve Pinecone index: 'str' object has no attribute 'node_id'\n"
     ]
    },
    {
     "ename": "AttributeError",
     "evalue": "'str' object has no attribute 'node_id'",
     "output_type": "error",
     "traceback": [
      "\u001b[0;31m---------------------------------------------------------------------------\u001b[0m",
      "\u001b[0;31mAttributeError\u001b[0m                            Traceback (most recent call last)",
      "Cell \u001b[0;32mIn[2], line 5\u001b[0m\n\u001b[1;32m      3\u001b[0m file_url \u001b[38;5;241m=\u001b[39m \u001b[38;5;124m\"\u001b[39m\u001b[38;5;124mhttps://qucoursify.s3.us-east-1.amazonaws.com/qu-aedt/test/slides/1+Introduction.pdf\u001b[39m\u001b[38;5;124m\"\u001b[39m\n\u001b[1;32m      4\u001b[0m \u001b[38;5;28mid\u001b[39m \u001b[38;5;241m=\u001b[39m \u001b[38;5;124m\"\u001b[39m\u001b[38;5;124m5f6e8d3b6e5e1d5a7f8d2b2e\u001b[39m\u001b[38;5;124m\"\u001b[39m\n\u001b[0;32m----> 5\u001b[0m index \u001b[38;5;241m=\u001b[39m \u001b[38;5;28;01mawait\u001b[39;00m get_or_create_index(course_id, module_id, file_url, index_id\u001b[38;5;241m=\u001b[39m\u001b[38;5;28mid\u001b[39m)\n",
      "File \u001b[0;32m~/Github/quAPI-backend/app/services/rag/create_rag.py:213\u001b[0m, in \u001b[0;36mget_or_create_index\u001b[0;34m(course_id, module_id, text_nodes, index_id)\u001b[0m\n\u001b[1;32m    204\u001b[0m     storage_context \u001b[38;5;241m=\u001b[39m StorageContext\u001b[38;5;241m.\u001b[39mfrom_defaults(\n\u001b[1;32m    205\u001b[0m         vector_store\u001b[38;5;241m=\u001b[39mPineconeVectorStore(\n\u001b[1;32m    206\u001b[0m             pinecone\u001b[38;5;241m.\u001b[39mIndex(name\u001b[38;5;241m=\u001b[39mindex_id, \n\u001b[0;32m   (...)\u001b[0m\n\u001b[1;32m    210\u001b[0m         )\n\u001b[1;32m    211\u001b[0m     )\n\u001b[1;32m    212\u001b[0m     index \u001b[38;5;241m=\u001b[39m VectorStoreIndex\u001b[38;5;241m.\u001b[39mfrom_vector_store(vector_store\u001b[38;5;241m=\u001b[39mstorage_context\u001b[38;5;241m.\u001b[39mvector_store)\n\u001b[0;32m--> 213\u001b[0m     \u001b[38;5;28;01mawait\u001b[39;00m index\u001b[38;5;241m.\u001b[39mstorage_context\u001b[38;5;241m.\u001b[39mvector_store\u001b[38;5;241m.\u001b[39masync_add(text_nodes)\n\u001b[1;32m    214\u001b[0m     index\u001b[38;5;241m.\u001b[39minsert_nodes(text_nodes)\n\u001b[1;32m    216\u001b[0m \u001b[38;5;28;01mreturn\u001b[39;00m index\n",
      "File \u001b[0;32m~/Github/quAPI-backend/venv/lib/python3.10/site-packages/llama_index/core/vector_stores/types.py:370\u001b[0m, in \u001b[0;36mBasePydanticVectorStore.async_add\u001b[0;34m(self, nodes, **kwargs)\u001b[0m\n\u001b[1;32m    360\u001b[0m \u001b[38;5;28;01masync\u001b[39;00m \u001b[38;5;28;01mdef\u001b[39;00m \u001b[38;5;21masync_add\u001b[39m(\n\u001b[1;32m    361\u001b[0m     \u001b[38;5;28mself\u001b[39m,\n\u001b[1;32m    362\u001b[0m     nodes: Sequence[BaseNode],\n\u001b[1;32m    363\u001b[0m     \u001b[38;5;241m*\u001b[39m\u001b[38;5;241m*\u001b[39mkwargs: Any,\n\u001b[1;32m    364\u001b[0m ) \u001b[38;5;241m-\u001b[39m\u001b[38;5;241m>\u001b[39m List[\u001b[38;5;28mstr\u001b[39m]:\n\u001b[1;32m    365\u001b[0m \u001b[38;5;250m    \u001b[39m\u001b[38;5;124;03m\"\"\"\u001b[39;00m\n\u001b[1;32m    366\u001b[0m \u001b[38;5;124;03m    Asynchronously add nodes to vector store.\u001b[39;00m\n\u001b[1;32m    367\u001b[0m \u001b[38;5;124;03m    NOTE: this is not implemented for all vector stores. If not implemented,\u001b[39;00m\n\u001b[1;32m    368\u001b[0m \u001b[38;5;124;03m    it will just call add synchronously.\u001b[39;00m\n\u001b[1;32m    369\u001b[0m \u001b[38;5;124;03m    \"\"\"\u001b[39;00m\n\u001b[0;32m--> 370\u001b[0m     \u001b[38;5;28;01mreturn\u001b[39;00m \u001b[38;5;28;43mself\u001b[39;49m\u001b[38;5;241;43m.\u001b[39;49m\u001b[43madd\u001b[49m\u001b[43m(\u001b[49m\u001b[43mnodes\u001b[49m\u001b[43m,\u001b[49m\u001b[43m \u001b[49m\u001b[38;5;241;43m*\u001b[39;49m\u001b[38;5;241;43m*\u001b[39;49m\u001b[43mkwargs\u001b[49m\u001b[43m)\u001b[49m\n",
      "File \u001b[0;32m~/Github/quAPI-backend/venv/lib/python3.10/site-packages/llama_index/vector_stores/pinecone/base.py:327\u001b[0m, in \u001b[0;36mPineconeVectorStore.add\u001b[0;34m(self, nodes, **add_kwargs)\u001b[0m\n\u001b[1;32m    325\u001b[0m sparse_inputs \u001b[38;5;241m=\u001b[39m []\n\u001b[1;32m    326\u001b[0m \u001b[38;5;28;01mfor\u001b[39;00m node \u001b[38;5;129;01min\u001b[39;00m nodes:\n\u001b[0;32m--> 327\u001b[0m     node_id \u001b[38;5;241m=\u001b[39m \u001b[43mnode\u001b[49m\u001b[38;5;241;43m.\u001b[39;49m\u001b[43mnode_id\u001b[49m\n\u001b[1;32m    329\u001b[0m     metadata \u001b[38;5;241m=\u001b[39m node_to_metadata_dict(\n\u001b[1;32m    330\u001b[0m         node,\n\u001b[1;32m    331\u001b[0m         remove_text\u001b[38;5;241m=\u001b[39m\u001b[38;5;28mself\u001b[39m\u001b[38;5;241m.\u001b[39mremove_text_from_metadata,\n\u001b[1;32m    332\u001b[0m         flat_metadata\u001b[38;5;241m=\u001b[39m\u001b[38;5;28mself\u001b[39m\u001b[38;5;241m.\u001b[39mflat_metadata,\n\u001b[1;32m    333\u001b[0m     )\n\u001b[1;32m    335\u001b[0m     \u001b[38;5;28;01mif\u001b[39;00m \u001b[38;5;28mself\u001b[39m\u001b[38;5;241m.\u001b[39madd_sparse_vector \u001b[38;5;129;01mand\u001b[39;00m \u001b[38;5;28mself\u001b[39m\u001b[38;5;241m.\u001b[39m_sparse_embedding_model \u001b[38;5;129;01mis\u001b[39;00m \u001b[38;5;129;01mnot\u001b[39;00m \u001b[38;5;28;01mNone\u001b[39;00m:\n",
      "\u001b[0;31mAttributeError\u001b[0m: 'str' object has no attribute 'node_id'"
     ]
    }
   ],
   "source": [
    "course_id = \"6746358e6520cd2b0a749203\"\n",
    "module_id = \"6746358e6520cd2b0a749205\"\n",
    "file_url = \"https://qucoursify.s3.us-east-1.amazonaws.com/qu-aedt/test/slides/1+Introduction.pdf\"\n",
    "id = \"5f6e8d3b6e5e1d5a7f8d2b2e\"\n",
    "index = await get_or_create_index(course_id, module_id, file_url, index_id=id)"
   ]
  },
  {
   "cell_type": "code",
   "execution_count": null,
   "metadata": {},
   "outputs": [],
   "source": []
  },
  {
   "cell_type": "code",
   "execution_count": null,
   "metadata": {},
   "outputs": [],
   "source": []
  }
 ],
 "metadata": {
  "kernelspec": {
   "display_name": "venv",
   "language": "python",
   "name": "python3"
  },
  "language_info": {
   "codemirror_mode": {
    "name": "ipython",
    "version": 3
   },
   "file_extension": ".py",
   "mimetype": "text/x-python",
   "name": "python",
   "nbconvert_exporter": "python",
   "pygments_lexer": "ipython3",
   "version": "3.10.12"
  }
 },
 "nbformat": 4,
 "nbformat_minor": 2
}
